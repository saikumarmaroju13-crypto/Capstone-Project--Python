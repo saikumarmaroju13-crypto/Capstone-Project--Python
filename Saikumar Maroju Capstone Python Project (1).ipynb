{
 "cells": [
  {
   "cell_type": "code",
   "execution_count": 1,
   "id": "d1bfeebd-34e2-4725-b537-53f07ae696b6",
   "metadata": {},
   "outputs": [],
   "source": [
    "#Task 1- Extracting tables from PDF and converting them into data frames with CSV format"
   ]
  },
  {
   "cell_type": "code",
   "execution_count": 1,
   "id": "db0837f5-f00a-4786-84d2-ad2d9084badb",
   "metadata": {},
   "outputs": [
    {
     "name": "stdout",
     "output_type": "stream",
     "text": [
      "Tables found: 3\n"
     ]
    }
   ],
   "source": [
    "# Step:1  Extracting all tables from the PDF File using 'camelot'\n",
    "\n",
    "import camelot        #Importing camelot to extract the tables\n",
    "import pandas as pd    #Importing pandas for dataframes handling\n",
    "\n",
    "tables = camelot.read_pdf(r\"C:\\Users\\Admin\\Downloads\\Capstone project.pdf\", pages=\"all\") #Storing them in 'Tables'\n",
    "print(\"Tables found:\", tables.n)"
   ]
  },
  {
   "cell_type": "code",
   "execution_count": 2,
   "id": "c60a8f7a-069f-4b8a-8ac5-79b82dc36e6c",
   "metadata": {},
   "outputs": [],
   "source": [
    "# Step:2   Saving each table as CSV files\n",
    "\n",
    "tables[0].to_csv(\"Employee_DataFrame.csv\") #Saving table as Employee_Dataframe.csv\n",
    "tables[1].to_csv(\"Seniority_Level_DataFrame.csv\") #Saving table as Seniority_Level_DataFrame.csv\n",
    "tables[2].to_csv(\"Project_DataFrame.csv\") #Saving table as Project_DataFrame.csv"
   ]
  },
  {
   "cell_type": "code",
   "execution_count": 3,
   "id": "f86f6c7c-a890-4e1b-93ba-038a1ad9ae69",
   "metadata": {},
   "outputs": [],
   "source": [
    "# Step:3  Making Dataframes with correct names\n",
    "\n",
    "employee_df = pd.read_csv(\"Employee_DataFrame.csv\", header=1)\n",
    "employee_df[\"Name\"] = employee_df[\"Name\"].str.replace(\"\\n\", \" \", regex=False)\n",
    "\n",
    "designation_df = pd.read_csv(\"Seniority_Level_DataFrame.csv\", header=1)\n",
    "\n",
    "designation_df.columns = designation_df.columns.str.strip()\n",
    "\n",
    "if \"Designation  Level\" in designation_df.columns:   #while extracting the table, designation and level is separating hence renaming them as one\n",
    "    designation_df = designation_df.rename(columns={\"Designation  Level\": \"Designation Level\"})\n",
    "\n",
    "project_df = pd.read_csv(\"Project_DataFrame.csv\", header=1)"
   ]
  },
  {
   "cell_type": "code",
   "execution_count": 4,
   "id": "41a7b3c3-4a6e-4951-8594-f432902b796f",
   "metadata": {},
   "outputs": [
    {
     "name": "stdout",
     "output_type": "stream",
     "text": [
      "\n",
      "Employee DataFrame:\n",
      "     ID              Name Gender     City  Age\n",
      "0  A001        John Alter      M    Paris   25\n",
      "1  A002  Alice  Luxumberg      F   London   27\n",
      "2  A003    Tom  Sabestine      M   Berlin   29\n",
      "3  A004        Nina Adgra      F  Newyork   31\n",
      "4  A005        Amy  Johny      F   Madrid   30\n",
      "\n",
      "Seniority Level DataFrame:\n",
      "     ID  Designation Level\n",
      "0  A001                  2\n",
      "1  A002                  2\n",
      "2  A003                  3\n",
      "3  A004                  2\n",
      "4  A005                  3\n",
      "\n",
      "Project DataFrame:\n",
      "      ID     Project       Cost    Status\n",
      "0   A001   Project 1  1002000.0  Finished\n",
      "1   A002   Project 2  2000000.0   Ongoing\n",
      "2   A003   Project 3  4500000.0  Finished\n",
      "3   A004   Project 4  5500000.0   Ongoing\n",
      "4   A005   Project 5        NaN  Finished\n",
      "5   A002   Project 6   680000.0    Failed\n",
      "6   A005   Project 7   400000.0  Finished\n",
      "7   A003   Project 8   350000.0    Failed\n",
      "8   A001   Project 9        NaN   Ongoing\n",
      "9   A003  Project 10   300000.0  Finished\n",
      "10  A001  Project 11  2000000.0    Failed\n",
      "11  A004  Project 12  1000000.0   Ongoing\n",
      "12  A004  Project 13  3000000.0  Finished\n",
      "13  A005  Project 14   200000.0  Finished\n"
     ]
    }
   ],
   "source": [
    "# Step:4   Displaying all 3 dataframe tables \n",
    "\n",
    "print(\"\\nEmployee DataFrame:\")\n",
    "print(employee_df)\n",
    "\n",
    "print(\"\\nSeniority Level DataFrame:\")\n",
    "print(designation_df)\n",
    "\n",
    "print(\"\\nProject DataFrame:\")  #Printomh the Project Dataframe\n",
    "print(project_df)"
   ]
  },
  {
   "cell_type": "code",
   "execution_count": 5,
   "id": "1b1a97bf-e78c-4112-af12-d1184c7a7e1c",
   "metadata": {},
   "outputs": [],
   "source": [
    "# Task 2- Finding the missing values in the Data frame by running average"
   ]
  },
  {
   "cell_type": "code",
   "execution_count": 6,
   "id": "3e9b4ac1-717f-4b8d-986b-4fbe46156dea",
   "metadata": {},
   "outputs": [],
   "source": [
    "# Step:1  Loading the Project Data Frame from saved CSV Project_DataFrame\n",
    "\n",
    "import numpy as np   #Importing Numpy for handling numerical values\n",
    "project_df = pd.read_csv(\"Project_DataFrame.csv\", header=1)"
   ]
  },
  {
   "cell_type": "code",
   "execution_count": 7,
   "id": "684c91e0-ad8c-4c40-9324-9f71560ed3b7",
   "metadata": {},
   "outputs": [],
   "source": [
    "# Step:2    Converting Cost column to numbers\n",
    "\n",
    "project_df[\"Cost\"] = pd.to_numeric(project_df[\"Cost\"], errors=\"coerce\")  #Converting Cost column to numeric type"
   ]
  },
  {
   "cell_type": "code",
   "execution_count": 8,
   "id": "8ee9fda8-0f85-4954-aa63-f3695089656e",
   "metadata": {},
   "outputs": [
    {
     "name": "stdout",
     "output_type": "stream",
     "text": [
      "Replaced missing cost at row 4 with running average: 3250500.0\n",
      "Replaced missing cost at row 8 with running average: 2210312.5\n"
     ]
    }
   ],
   "source": [
    "# Step:3   replacing missing values with running average\n",
    "\n",
    "for i in range(len(project_df)):                     \n",
    "    if pd.isna(project_df.loc[i, \"Cost\"]):           \n",
    "        running_avg = project_df.loc[:i-1, \"Cost\"].mean()   # This will take average of available costs\n",
    "        project_df.loc[i, \"Cost\"] = running_avg            \n",
    "        print(f\"Replaced missing cost at row {i} with running average: {running_avg}\")  #Printing missed cost values"
   ]
  },
  {
   "cell_type": "code",
   "execution_count": 9,
   "id": "66b1bc1a-71df-4b50-86e0-74eff402e40d",
   "metadata": {},
   "outputs": [
    {
     "name": "stdout",
     "output_type": "stream",
     "text": [
      "\n",
      "Project DataFrame with missing costs:\n",
      "      ID     Project       Cost    Status\n",
      "0   A001   Project 1  1002000.0  Finished\n",
      "1   A002   Project 2  2000000.0   Ongoing\n",
      "2   A003   Project 3  4500000.0  Finished\n",
      "3   A004   Project 4  5500000.0   Ongoing\n",
      "4   A005   Project 5  3250500.0  Finished\n",
      "5   A002   Project 6   680000.0    Failed\n",
      "6   A005   Project 7   400000.0  Finished\n",
      "7   A003   Project 8   350000.0    Failed\n",
      "8   A001   Project 9  2210312.5   Ongoing\n",
      "9   A003  Project 10   300000.0  Finished\n",
      "10  A001  Project 11  2000000.0    Failed\n",
      "11  A004  Project 12  1000000.0   Ongoing\n",
      "12  A004  Project 13  3000000.0  Finished\n",
      "13  A005  Project 14   200000.0  Finished\n"
     ]
    }
   ],
   "source": [
    "# Step:4  Showing DataFrames after replacing missing values and saving them as CSV\n",
    "print(\"\\nProject DataFrame with missing costs:\")\n",
    "project_df.to_csv(\"Project_DataFrame.csv\", index=False)\n",
    "\n",
    "print(project_df) #Printing complete Project Dataframe table with missed values"
   ]
  },
  {
   "cell_type": "code",
   "execution_count": 10,
   "id": "46ec6c85-b4f3-4039-ad3d-8177b20e584c",
   "metadata": {},
   "outputs": [],
   "source": [
    "#Task 3- Splitting the name column into two new columns and removing old Name column"
   ]
  },
  {
   "cell_type": "code",
   "execution_count": 11,
   "id": "70303cbb-7270-45c3-951e-ad55195f87ec",
   "metadata": {},
   "outputs": [
    {
     "name": "stdout",
     "output_type": "stream",
     "text": [
      "Before split:\n",
      "      ID              Name Gender     City  Age\n",
      "0  A001        John Alter      M    Paris   25\n",
      "1  A002  Alice  Luxumberg      F   London   27\n",
      "2  A003    Tom  Sabestine      M   Berlin   29\n",
      "3  A004        Nina Adgra      F  Newyork   31\n",
      "4  A005        Amy  Johny      F   Madrid   30\n",
      "\n",
      "After split:\n",
      "      ID Gender     City  Age First Name   Last Name\n",
      "0  A001      M    Paris   25       John       Alter\n",
      "1  A002      F   London   27      Alice   Luxumberg\n",
      "2  A003      M   Berlin   29        Tom   Sabestine\n",
      "3  A004      F  Newyork   31       Nina       Adgra\n",
      "4  A005      F   Madrid   30        Amy       Johny\n"
     ]
    }
   ],
   "source": [
    "#step:1 Separating Name into 2 different columns as 'First name' and 'Last name'\n",
    "\n",
    "print(\"Before split:\\n\", employee_df)\n",
    "\n",
    "employee_df[[\"First Name\", \"Last Name\"]] = employee_df[\"Name\"].str.split(\" \", n=1, expand=True) \n",
    "\n",
    "# Step:2 Drop the old 'Name' column and print new table\n",
    "\n",
    "employee_df.drop(columns=[\"Name\"], inplace=True)  #Dropping Name column\n",
    "\n",
    "print(\"\\nAfter split:\\n\", employee_df)\n"
   ]
  },
  {
   "cell_type": "code",
   "execution_count": 12,
   "id": "5aa69f86-5a46-4474-9279-16bc7878de95",
   "metadata": {},
   "outputs": [],
   "source": [
    "#Task 4- Joining all 3 updated dataframes into 1 dataframe and naming it as 'Final'"
   ]
  },
  {
   "cell_type": "code",
   "execution_count": 13,
   "id": "c4efee1c-d616-4268-83ca-226a5da0f0e0",
   "metadata": {},
   "outputs": [
    {
     "name": "stdout",
     "output_type": "stream",
     "text": [
      "\n",
      "Final DataFrame:\n",
      "      ID Gender     City  Age First Name   Last Name  Designation Level     Project       Cost    Status\n",
      "0   A001      M    Paris   25       John       Alter                  2   Project 1  1002000.0  Finished\n",
      "1   A001      M    Paris   25       John       Alter                  2   Project 9  2210312.5   Ongoing\n",
      "2   A001      M    Paris   25       John       Alter                  2  Project 11  2000000.0    Failed\n",
      "3   A002      F   London   27      Alice   Luxumberg                  2   Project 2  2000000.0   Ongoing\n",
      "4   A002      F   London   27      Alice   Luxumberg                  2   Project 6   680000.0    Failed\n",
      "5   A003      M   Berlin   29        Tom   Sabestine                  3   Project 3  4500000.0  Finished\n",
      "6   A003      M   Berlin   29        Tom   Sabestine                  3   Project 8   350000.0    Failed\n",
      "7   A003      M   Berlin   29        Tom   Sabestine                  3  Project 10   300000.0  Finished\n",
      "8   A004      F  Newyork   31       Nina       Adgra                  2   Project 4  5500000.0   Ongoing\n",
      "9   A004      F  Newyork   31       Nina       Adgra                  2  Project 12  1000000.0   Ongoing\n",
      "10  A004      F  Newyork   31       Nina       Adgra                  2  Project 13  3000000.0  Finished\n",
      "11  A005      F   Madrid   30        Amy       Johny                  3   Project 5  3250500.0  Finished\n",
      "12  A005      F   Madrid   30        Amy       Johny                  3   Project 7   400000.0  Finished\n",
      "13  A005      F   Madrid   30        Amy       Johny                  3  Project 14   200000.0  Finished\n"
     ]
    }
   ],
   "source": [
    "#step:1 Merging employee dataframe with designation and project Dataframe\n",
    "\n",
    "merged_df = pd.merge(employee_df, designation_df, on=\"ID\", how=\"inner\") #Merging Employee table with Designation table using Inner join method\n",
    "Final = pd.merge(merged_df, project_df, on=\"ID\", how=\"inner\")  #Merging above table with project table with Inner join method\n",
    "\n",
    "#step:2  Printing updated new table with all dataframes data\n",
    "\n",
    "print(\"\\nFinal DataFrame:\") #Printing full table with 3 data frames\n",
    "print(Final.to_string())  \n"
   ]
  },
  {
   "cell_type": "code",
   "execution_count": 14,
   "id": "04634329-1c61-4c87-bc4c-a8c8247feab1",
   "metadata": {},
   "outputs": [],
   "source": [
    "#Task 5- Adding a new Bonus column with 5% bonus concerning project cost to employees who have finished the projects in the Final Table"
   ]
  },
  {
   "cell_type": "code",
   "execution_count": 15,
   "id": "f19fa550-96c2-415b-a238-df2a27081cf9",
   "metadata": {},
   "outputs": [
    {
     "name": "stdout",
     "output_type": "stream",
     "text": [
      "\n",
      "Final DataFrame with Bonus:\n",
      "      ID Gender     City  Age First Name   Last Name  Designation Level     Project       Cost    Status     Bonus\n",
      "0   A001      M    Paris   25       John       Alter                  2   Project 1  1002000.0  Finished   50100.0\n",
      "1   A001      M    Paris   25       John       Alter                  2   Project 9  2210312.5   Ongoing       0.0\n",
      "2   A001      M    Paris   25       John       Alter                  2  Project 11  2000000.0    Failed       0.0\n",
      "3   A002      F   London   27      Alice   Luxumberg                  2   Project 2  2000000.0   Ongoing       0.0\n",
      "4   A002      F   London   27      Alice   Luxumberg                  2   Project 6   680000.0    Failed       0.0\n",
      "5   A003      M   Berlin   29        Tom   Sabestine                  3   Project 3  4500000.0  Finished  225000.0\n",
      "6   A003      M   Berlin   29        Tom   Sabestine                  3   Project 8   350000.0    Failed       0.0\n",
      "7   A003      M   Berlin   29        Tom   Sabestine                  3  Project 10   300000.0  Finished   15000.0\n",
      "8   A004      F  Newyork   31       Nina       Adgra                  2   Project 4  5500000.0   Ongoing       0.0\n",
      "9   A004      F  Newyork   31       Nina       Adgra                  2  Project 12  1000000.0   Ongoing       0.0\n",
      "10  A004      F  Newyork   31       Nina       Adgra                  2  Project 13  3000000.0  Finished  150000.0\n",
      "11  A005      F   Madrid   30        Amy       Johny                  3   Project 5  3250500.0  Finished  162525.0\n",
      "12  A005      F   Madrid   30        Amy       Johny                  3   Project 7   400000.0  Finished   20000.0\n",
      "13  A005      F   Madrid   30        Amy       Johny                  3  Project 14   200000.0  Finished   10000.0\n"
     ]
    }
   ],
   "source": [
    "# Step 1: Add Bonus column\n",
    "Final[\"Bonus\"] = Final.apply(\n",
    "    lambda row: row[\"Cost\"] * 0.05 if row[\"Status\"] == \"Finished\" else 0, #Creating new column named 'Bonus' and adding 5% bonus for projects finished\n",
    "    axis=1\n",
    ")\n",
    "\n",
    "# Step 2: Print updated DataFrame\n",
    "print(\"\\nFinal DataFrame with Bonus:\")\n",
    "print(Final.to_string())  # shows all rows"
   ]
  },
  {
   "cell_type": "code",
   "execution_count": 16,
   "id": "059668aa-c400-4626-8750-b6cefa1368db",
   "metadata": {},
   "outputs": [],
   "source": [
    "#Task 6- Demoting the designation level by 1 whose projects have status 'Fail' and deleting employee record whose designation is above 4"
   ]
  },
  {
   "cell_type": "code",
   "execution_count": 17,
   "id": "a8881588-93bf-4f4f-a030-7ec1a4833fb3",
   "metadata": {},
   "outputs": [
    {
     "name": "stdout",
     "output_type": "stream",
     "text": [
      "\n",
      "Final DataFrame after demotion:\n",
      "      ID Gender     City  Age First Name   Last Name  Designation Level     Project       Cost    Status     Bonus\n",
      "0   A001      M    Paris   25       John       Alter                  2   Project 1  1002000.0  Finished   50100.0\n",
      "1   A001      M    Paris   25       John       Alter                  2   Project 9  2210312.5   Ongoing       0.0\n",
      "2   A001      M    Paris   25       John       Alter                  1  Project 11  2000000.0    Failed       0.0\n",
      "3   A002      F   London   27      Alice   Luxumberg                  2   Project 2  2000000.0   Ongoing       0.0\n",
      "4   A002      F   London   27      Alice   Luxumberg                  1   Project 6   680000.0    Failed       0.0\n",
      "5   A003      M   Berlin   29        Tom   Sabestine                  3   Project 3  4500000.0  Finished  225000.0\n",
      "6   A003      M   Berlin   29        Tom   Sabestine                  2   Project 8   350000.0    Failed       0.0\n",
      "7   A003      M   Berlin   29        Tom   Sabestine                  3  Project 10   300000.0  Finished   15000.0\n",
      "8   A004      F  Newyork   31       Nina       Adgra                  2   Project 4  5500000.0   Ongoing       0.0\n",
      "9   A004      F  Newyork   31       Nina       Adgra                  2  Project 12  1000000.0   Ongoing       0.0\n",
      "10  A004      F  Newyork   31       Nina       Adgra                  2  Project 13  3000000.0  Finished  150000.0\n",
      "11  A005      F   Madrid   30        Amy       Johny                  3   Project 5  3250500.0  Finished  162525.0\n",
      "12  A005      F   Madrid   30        Amy       Johny                  3   Project 7   400000.0  Finished   20000.0\n",
      "13  A005      F   Madrid   30        Amy       Johny                  3  Project 14   200000.0  Finished   10000.0\n"
     ]
    }
   ],
   "source": [
    "Final[\"Designation Level\"] = Final[\"Designation Level\"].astype(str).str.strip().astype(int)\n",
    "\n",
    "# Demote by 1 wherever project Status is \"Failed\"\n",
    "Final.loc[Final[\"Status\"] == \"Failed\", \"Designation Level\"] -= 1\n",
    "\n",
    "# Displaying the updated DataFrame\n",
    "print(\"\\nFinal DataFrame after demotion:\")\n",
    "print(Final.to_string())"
   ]
  },
  {
   "cell_type": "code",
   "execution_count": 18,
   "id": "b4753a3d-b875-4392-8de1-47bc943d3796",
   "metadata": {},
   "outputs": [],
   "source": [
    "#Task-7 Adding'Mr.' and 'Mrs.' to the first name and deleting Gender column"
   ]
  },
  {
   "cell_type": "code",
   "execution_count": 19,
   "id": "3ecc460c-971f-4c51-846f-5c3beecba902",
   "metadata": {},
   "outputs": [
    {
     "name": "stdout",
     "output_type": "stream",
     "text": [
      "\n",
      "Final DataFrame after adding titles and dropping Gender:\n",
      "      ID     City  Age  First Name   Last Name  Designation Level     Project       Cost    Status     Bonus\n",
      "0   A001    Paris   25    Mr. John       Alter                  2   Project 1  1002000.0  Finished   50100.0\n",
      "1   A001    Paris   25    Mr. John       Alter                  2   Project 9  2210312.5   Ongoing       0.0\n",
      "2   A001    Paris   25    Mr. John       Alter                  1  Project 11  2000000.0    Failed       0.0\n",
      "3   A002   London   27  Mrs. Alice   Luxumberg                  2   Project 2  2000000.0   Ongoing       0.0\n",
      "4   A002   London   27  Mrs. Alice   Luxumberg                  1   Project 6   680000.0    Failed       0.0\n",
      "5   A003   Berlin   29     Mr. Tom   Sabestine                  3   Project 3  4500000.0  Finished  225000.0\n",
      "6   A003   Berlin   29     Mr. Tom   Sabestine                  2   Project 8   350000.0    Failed       0.0\n",
      "7   A003   Berlin   29     Mr. Tom   Sabestine                  3  Project 10   300000.0  Finished   15000.0\n",
      "8   A004  Newyork   31   Mrs. Nina       Adgra                  2   Project 4  5500000.0   Ongoing       0.0\n",
      "9   A004  Newyork   31   Mrs. Nina       Adgra                  2  Project 12  1000000.0   Ongoing       0.0\n",
      "10  A004  Newyork   31   Mrs. Nina       Adgra                  2  Project 13  3000000.0  Finished  150000.0\n",
      "11  A005   Madrid   30    Mrs. Amy       Johny                  3   Project 5  3250500.0  Finished  162525.0\n",
      "12  A005   Madrid   30    Mrs. Amy       Johny                  3   Project 7   400000.0  Finished   20000.0\n",
      "13  A005   Madrid   30    Mrs. Amy       Johny                  3  Project 14   200000.0  Finished   10000.0\n"
     ]
    }
   ],
   "source": [
    "# Add title (Mr./Mrs.) to First Name based on Gender\n",
    "Final[\"First Name\"] = Final.apply(\n",
    "    lambda row: \"Mr. \" + row[\"First Name\"] if row[\"Gender\"] == \"M\" else \"Mrs. \" + row[\"First Name\"],\n",
    "    axis=1                   #Adding Prefix to first name column\n",
    ")\n",
    "\n",
    "# Droping the Gender column\n",
    "Final.drop(columns=[\"Gender\"], inplace=True)\n",
    "\n",
    "# Displaying updated DataFrame\n",
    "print(\"\\nFinal DataFrame after adding titles and dropping Gender:\")\n",
    "print(Final.to_string())"
   ]
  },
  {
   "cell_type": "code",
   "execution_count": 20,
   "id": "dd23f12a-bc66-4995-b7a9-88ae1908bb50",
   "metadata": {},
   "outputs": [],
   "source": [
    "#Task-8 promoting designation level by 1 for the age above 29 using IF condition"
   ]
  },
  {
   "cell_type": "code",
   "execution_count": 21,
   "id": "eb80351a-e59a-4606-8fba-6c375266b584",
   "metadata": {},
   "outputs": [
    {
     "name": "stdout",
     "output_type": "stream",
     "text": [
      "\n",
      "Final DataFrame after promotion for Age > 29:\n",
      "      ID     City  Age  First Name   Last Name  Designation Level     Project       Cost    Status     Bonus\n",
      "0   A001    Paris   25    Mr. John       Alter                  2   Project 1  1002000.0  Finished   50100.0\n",
      "1   A001    Paris   25    Mr. John       Alter                  2   Project 9  2210312.5   Ongoing       0.0\n",
      "2   A001    Paris   25    Mr. John       Alter                  1  Project 11  2000000.0    Failed       0.0\n",
      "3   A002   London   27  Mrs. Alice   Luxumberg                  2   Project 2  2000000.0   Ongoing       0.0\n",
      "4   A002   London   27  Mrs. Alice   Luxumberg                  1   Project 6   680000.0    Failed       0.0\n",
      "5   A003   Berlin   29     Mr. Tom   Sabestine                  3   Project 3  4500000.0  Finished  225000.0\n",
      "6   A003   Berlin   29     Mr. Tom   Sabestine                  2   Project 8   350000.0    Failed       0.0\n",
      "7   A003   Berlin   29     Mr. Tom   Sabestine                  3  Project 10   300000.0  Finished   15000.0\n",
      "8   A004  Newyork   31   Mrs. Nina       Adgra                  3   Project 4  5500000.0   Ongoing       0.0\n",
      "9   A004  Newyork   31   Mrs. Nina       Adgra                  3  Project 12  1000000.0   Ongoing       0.0\n",
      "10  A004  Newyork   31   Mrs. Nina       Adgra                  3  Project 13  3000000.0  Finished  150000.0\n",
      "11  A005   Madrid   30    Mrs. Amy       Johny                  4   Project 5  3250500.0  Finished  162525.0\n",
      "12  A005   Madrid   30    Mrs. Amy       Johny                  4   Project 7   400000.0  Finished   20000.0\n",
      "13  A005   Madrid   30    Mrs. Amy       Johny                  4  Project 14   200000.0  Finished   10000.0\n"
     ]
    }
   ],
   "source": [
    "Final[\"Designation Level\"] = Final.apply(\n",
    "    lambda row: row[\"Designation Level\"] + 1 if row[\"Age\"] > 29 else row[\"Designation Level\"], #Promoting the designation by 1 for age above 29\n",
    "    axis=1\n",
    ")\n",
    "\n",
    "# Displaying updated DataFrame\n",
    "print(\"\\nFinal DataFrame after promotion for Age > 29:\")\n",
    "print(Final.to_string())"
   ]
  },
  {
   "cell_type": "code",
   "execution_count": 22,
   "id": "297b08bc-c018-4aa4-8a9c-700bc2a5f670",
   "metadata": {},
   "outputs": [],
   "source": [
    "#Task 9- Adding the cost of all projects for each employee and saving it in new dataframe \"TotalProjCost\" with columns ID, First and last name"
   ]
  },
  {
   "cell_type": "code",
   "execution_count": 23,
   "id": "41c39577-afb3-4862-bfb4-ddc4af364147",
   "metadata": {},
   "outputs": [
    {
     "name": "stdout",
     "output_type": "stream",
     "text": [
      "\n",
      "TotalProjCost DataFrame:\n",
      "     ID  First Name  Total cost\n",
      "0  A001    Mr. John   5212312.5\n",
      "1  A002  Mrs. Alice   2680000.0\n",
      "2  A003     Mr. Tom   5150000.0\n",
      "3  A004   Mrs. Nina   9500000.0\n",
      "4  A005    Mrs. Amy   3850500.0\n"
     ]
    }
   ],
   "source": [
    "# Create=ing new dataframe with total project cost per employee\n",
    "TotalProjCost = Final.groupby([\"ID\", \"First Name\"])[\"Cost\"].sum().reset_index()\n",
    "\n",
    "# Renaming the 'Cost' column to 'Total cost'\n",
    "TotalProjCost.rename(columns={\"Cost\": \"Total cost\"}, inplace=True)\n",
    "\n",
    "# Displaying the new dataframe\n",
    "print(\"\\nTotalProjCost DataFrame:\")\n",
    "print(TotalProjCost.to_string())"
   ]
  },
  {
   "cell_type": "code",
   "execution_count": 24,
   "id": "cda6b983-9124-4da7-8de4-0adc7c728df2",
   "metadata": {},
   "outputs": [],
   "source": [
    "#Task 10- Printing all the employee details whose city name have letter 'o'"
   ]
  },
  {
   "cell_type": "code",
   "execution_count": 25,
   "id": "c33c5d9d-6ff6-4e06-b818-04f5c3fcfeb9",
   "metadata": {},
   "outputs": [
    {
     "name": "stdout",
     "output_type": "stream",
     "text": [
      "\n",
      "Employees whose city name contains 'o':\n",
      "      ID     City  Age  First Name   Last Name  Designation Level     Project       Cost    Status     Bonus\n",
      "3   A002   London   27  Mrs. Alice   Luxumberg                  2   Project 2  2000000.0   Ongoing       0.0\n",
      "4   A002   London   27  Mrs. Alice   Luxumberg                  1   Project 6   680000.0    Failed       0.0\n",
      "8   A004  Newyork   31   Mrs. Nina       Adgra                  3   Project 4  5500000.0   Ongoing       0.0\n",
      "9   A004  Newyork   31   Mrs. Nina       Adgra                  3  Project 12  1000000.0   Ongoing       0.0\n",
      "10  A004  Newyork   31   Mrs. Nina       Adgra                  3  Project 13  3000000.0  Finished  150000.0\n"
     ]
    }
   ],
   "source": [
    "employees_with_o = Final[Final[\"City\"].str.contains(\"o\", case=False)]  #Filtering the employees whose city name have 'o'\n",
    "\n",
    "print(\"\\nEmployees whose city name contains 'o':\") #Displaying filtered table\n",
    "print(employees_with_o.to_string())"
   ]
  },
  {
   "cell_type": "code",
   "execution_count": null,
   "id": "6a4fee84-ed9c-4fb9-a399-463e7c71f3df",
   "metadata": {},
   "outputs": [],
   "source": []
  },
  {
   "cell_type": "code",
   "execution_count": null,
   "id": "2c29e8c9-483f-4451-8441-69dc5e162adf",
   "metadata": {},
   "outputs": [],
   "source": []
  },
  {
   "cell_type": "code",
   "execution_count": null,
   "id": "7625d687-bacd-491c-a099-31dd3e50f670",
   "metadata": {},
   "outputs": [],
   "source": []
  },
  {
   "cell_type": "code",
   "execution_count": null,
   "id": "eb9546ff-f82c-49e7-9da5-9e0d27fc2ea4",
   "metadata": {},
   "outputs": [],
   "source": []
  }
 ],
 "metadata": {
  "kernelspec": {
   "display_name": "Python 3 (ipykernel)",
   "language": "python",
   "name": "python3"
  },
  "language_info": {
   "codemirror_mode": {
    "name": "ipython",
    "version": 3
   },
   "file_extension": ".py",
   "mimetype": "text/x-python",
   "name": "python",
   "nbconvert_exporter": "python",
   "pygments_lexer": "ipython3",
   "version": "3.13.5"
  }
 },
 "nbformat": 4,
 "nbformat_minor": 5
}
